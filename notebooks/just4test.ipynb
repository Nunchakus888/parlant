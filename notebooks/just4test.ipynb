{
 "cells": [
  {
   "cell_type": "code",
   "execution_count": 4,
   "id": "2b8a970d",
   "metadata": {},
   "outputs": [
    {
     "name": "stdout",
     "output_type": "stream",
     "text": [
      "=== 测试结果 ===\n",
      "\n",
      "测试  1:\n",
      "输入: 'using the [handoff_to](using%20the%20handoff_to%20tool) tool to transfer human agent'\n",
      "输出: 'using the using the handoff_to tool tool to transfer human agent'\n",
      "匹配: ✓\n",
      "------------------------------------------------------------\n",
      "测试  2:\n",
      "输入: 'Transfer to a [human agent](using the handoff_to tool and assign it to the team/agent type and assignee is xyz).'\n",
      "输出: 'Transfer to a using the handoff_to tool and assign it to the team/agent type and assignee is xyz.'\n",
      "匹配: ✓\n",
      "------------------------------------------------------------\n"
     ]
    }
   ],
   "source": [
    "# 处理 action 中的 markdown 链接，提取并 decode 圆括号内容\n",
    "import re\n",
    "import urllib.parse\n",
    "\n",
    "def decode_markdown_links(text):\n",
    "    \"\"\"提取 markdown 链接中的圆括号内容并 decode\"\"\"\n",
    "    def replace_link(match):\n",
    "        link_text = match.group(1)  # 方括号内容\n",
    "        link_url = match.group(2)   # 圆括号内容\n",
    "        decoded_url = urllib.parse.unquote(link_url)\n",
    "        return f\"{decoded_url}\"\n",
    "    \n",
    "    # 匹配 [text](url) 格式，提取圆括号内容并 decode\n",
    "    pattern = r'\\[([^\\]]+)\\]\\(([^)]+)\\)'\n",
    "    return re.sub(pattern, replace_link, text)\n",
    "\n",
    "# 测试用例\n",
    "test_cases = [\n",
    "    # 基础用例\n",
    "    \"using the [handoff_to](using%20the%20handoff_to%20tool) tool to transfer human agent\",\n",
    "    \n",
    "    \"Transfer to a [human agent](using the handoff_to tool and assign it to the team/agent type and assignee is xyz).\",\n",
    "]\n",
    "\n",
    "print(\"=== 测试结果 ===\\n\")\n",
    "for i, test_case in enumerate(test_cases, 1):\n",
    "    result = decode_markdown_links(test_case)\n",
    "    print(f\"测试 {i:2d}:\")\n",
    "    print(f\"输入: {repr(test_case)}\")\n",
    "    print(f\"输出: {repr(result)}\")\n",
    "    print(f\"匹配: {'✓' if test_case != result else '✗ (无变化)'}\")\n",
    "    print(\"-\" * 60)"
   ]
  }
 ],
 "metadata": {
  "kernelspec": {
   "display_name": "omni-agent",
   "language": "python",
   "name": "python3"
  },
  "language_info": {
   "codemirror_mode": {
    "name": "ipython",
    "version": 3
   },
   "file_extension": ".py",
   "mimetype": "text/x-python",
   "name": "python",
   "nbconvert_exporter": "python",
   "pygments_lexer": "ipython3",
   "version": "3.12.11"
  }
 },
 "nbformat": 4,
 "nbformat_minor": 5
}
