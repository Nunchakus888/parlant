{
 "cells": [
  {
   "cell_type": "code",
   "execution_count": 5,
   "id": "c47e409b",
   "metadata": {},
   "outputs": [
    {
     "name": "stdout",
     "output_type": "stream",
     "text": [
      "2\n",
      "2\n",
      "2\n"
     ]
    }
   ],
   "source": [
    "funcs = []\n",
    "\n",
    "for i in range(3):\n",
    "    def f():\n",
    "        return i  # ⚠️ 捕获的是 i 的引用\n",
    "    funcs.append(f)\n",
    "\n",
    "# 执行时\n",
    "for f in funcs:\n",
    "    print(f())  # 输出：2, 2, 2  (❌ 不是 0, 1, 2)"
   ]
  },
  {
   "cell_type": "markdown",
   "id": "b4fb8669",
   "metadata": {},
   "source": [
    "## 解决方案 1: 使用默认参数捕获当前值\n",
    "\n",
    "通过默认参数，在函数定义时就捕获当前的 `i` 值，而不是引用。\n"
   ]
  },
  {
   "cell_type": "code",
   "execution_count": 6,
   "id": "61983029",
   "metadata": {},
   "outputs": [
    {
     "name": "stdout",
     "output_type": "stream",
     "text": [
      "0\n",
      "1\n",
      "2\n"
     ]
    }
   ],
   "source": [
    "funcs = []\n",
    "\n",
    "for i in range(3):\n",
    "    def f(i=i):  # 使用默认参数捕获当前值\n",
    "        return i\n",
    "    funcs.append(f)\n",
    "\n",
    "# 执行时\n",
    "for f in funcs:\n",
    "    print(f())  # 输出：0, 1, 2  (✅ 正确)\n"
   ]
  },
  {
   "cell_type": "markdown",
   "id": "c9015d03",
   "metadata": {},
   "source": [
    "## 解决方案 2: 使用 Lambda 和默认参数\n",
    "\n",
    "更简洁的写法，适合简单函数。\n"
   ]
  },
  {
   "cell_type": "code",
   "execution_count": 7,
   "id": "86e955aa",
   "metadata": {},
   "outputs": [
    {
     "name": "stdout",
     "output_type": "stream",
     "text": [
      "0\n",
      "1\n",
      "2\n"
     ]
    }
   ],
   "source": [
    "funcs = []\n",
    "\n",
    "for i in range(3):\n",
    "    funcs.append(lambda i=i: i)\n",
    "\n",
    "# 执行时\n",
    "for f in funcs:\n",
    "    print(f())  # 输出：0, 1, 2  (✅ 正确)\n"
   ]
  },
  {
   "cell_type": "markdown",
   "id": "4eb5bb10",
   "metadata": {},
   "source": [
    "## 解决方案 3: 使用函数工厂 (Function Factory)\n",
    "\n",
    "最清晰、最符合 SOLID 原则的方法，创建一个新的作用域。\n"
   ]
  },
  {
   "cell_type": "code",
   "execution_count": 8,
   "id": "3a5ddd04",
   "metadata": {},
   "outputs": [
    {
     "name": "stdout",
     "output_type": "stream",
     "text": [
      "0\n",
      "1\n",
      "2\n"
     ]
    }
   ],
   "source": [
    "def make_func(i):\n",
    "    \"\"\"函数工厂：为每个 i 创建独立的作用域\"\"\"\n",
    "    def f():\n",
    "        return i  # 这里的 i 是 make_func 的参数，每次调用都是独立的\n",
    "    return f\n",
    "\n",
    "funcs = []\n",
    "\n",
    "for i in range(3):\n",
    "    funcs.append(make_func(i))\n",
    "\n",
    "# 执行时\n",
    "for f in funcs:\n",
    "    print(f())  # 输出：0, 1, 2  (✅ 正确)\n"
   ]
  },
  {
   "cell_type": "markdown",
   "id": "24ed0ed1",
   "metadata": {},
   "source": [
    "## 解决方案 4: 使用 functools.partial\n",
    "\n",
    "适合需要部分参数固定的场景。\n"
   ]
  },
  {
   "cell_type": "code",
   "execution_count": 9,
   "id": "f1ef7a6c",
   "metadata": {},
   "outputs": [
    {
     "name": "stdout",
     "output_type": "stream",
     "text": [
      "0\n",
      "1\n",
      "2\n"
     ]
    }
   ],
   "source": [
    "from functools import partial\n",
    "\n",
    "def f(i):\n",
    "    return i\n",
    "\n",
    "funcs = []\n",
    "\n",
    "for i in range(3):\n",
    "    funcs.append(partial(f, i))\n",
    "\n",
    "# 执行时\n",
    "for func in funcs:\n",
    "    print(func())  # 输出：0, 1, 2  (✅ 正确)\n"
   ]
  },
  {
   "cell_type": "markdown",
   "id": "a3d5a681",
   "metadata": {},
   "source": [
    "## 解决方案 5: 使用列表推导式\n",
    "\n",
    "最 Pythonic 的方式，简洁且高效。\n"
   ]
  },
  {
   "cell_type": "code",
   "execution_count": 10,
   "id": "cfec0688",
   "metadata": {},
   "outputs": [
    {
     "name": "stdout",
     "output_type": "stream",
     "text": [
      "0\n",
      "1\n",
      "2\n"
     ]
    }
   ],
   "source": [
    "# 列表推导式为每次迭代创建独立作用域\n",
    "funcs = [lambda i=i: i for i in range(3)]\n",
    "\n",
    "# 执行时\n",
    "for f in funcs:\n",
    "    print(f())  # 输出：0, 1, 2  (✅ 正确)\n"
   ]
  },
  {
   "cell_type": "markdown",
   "id": "e6d6aa75",
   "metadata": {},
   "source": [
    "## 原理解释\n",
    "\n",
    "### 为什么会出现闭包陷阱？\n",
    "\n",
    "1. **延迟绑定 (Late Binding)**: Python 的闭包捕获的是变量的**引用**，不是**值**\n",
    "2. 当函数被调用时，才会去查找变量的当前值\n",
    "3. 循环结束后，`i` 的值为 2，所有函数共享同一个 `i`\n",
    "\n",
    "### 各方案对比\n",
    "\n",
    "| 方案 | 优点 | 缺点 | 适用场景 |\n",
    "|------|------|------|----------|\n",
    "| 默认参数 | 简单直接 | 需要修改函数签名 | 简单函数 |\n",
    "| Lambda + 默认参数 | 最简洁 | 可读性略差 | 单行简单逻辑 |\n",
    "| 函数工厂 | 最清晰，符合 SOLID | 代码略多 | 复杂逻辑，生产代码 |\n",
    "| functools.partial | 标准库支持 | 需要额外导入 | 已有函数需要部分应用 |\n",
    "| 列表推导式 | 最 Pythonic | 仅适用于生成列表 | 批量生成函数 |\n",
    "\n",
    "### 推荐方案\n",
    "\n",
    "- **生产代码**: 使用**函数工厂** (方案 3)，代码最清晰，易维护\n",
    "- **简单场景**: 使用**列表推导式** (方案 5)，最简洁\n",
    "- **已有代码改造**: 使用**默认参数** (方案 1)，改动最小\n"
   ]
  }
 ],
 "metadata": {
  "kernelspec": {
   "display_name": "omni-agent",
   "language": "python",
   "name": "python3"
  },
  "language_info": {
   "codemirror_mode": {
    "name": "ipython",
    "version": 3
   },
   "file_extension": ".py",
   "mimetype": "text/x-python",
   "name": "python",
   "nbconvert_exporter": "python",
   "pygments_lexer": "ipython3",
   "version": "3.12.11"
  }
 },
 "nbformat": 4,
 "nbformat_minor": 5
}
